{
  "nbformat": 4,
  "nbformat_minor": 0,
  "metadata": {
    "colab": {
      "provenance": [],
      "collapsed_sections": [],
      "authorship_tag": "ABX9TyOTg61Nrrt0t5E9Nk6gXQze",
      "include_colab_link": true
    },
    "kernelspec": {
      "name": "python3",
      "display_name": "Python 3"
    },
    "language_info": {
      "name": "python"
    }
  },
  "cells": [
    {
      "cell_type": "markdown",
      "metadata": {
        "id": "view-in-github",
        "colab_type": "text"
      },
      "source": [
        "<a href=\"https://colab.research.google.com/github/GiulioAppetito/Progetto-PMCSN/blob/main/plots.ipynb\" target=\"_parent\"><img src=\"https://colab.research.google.com/assets/colab-badge.svg\" alt=\"Open In Colab\"/></a>"
      ]
    },
    {
      "cell_type": "code",
      "execution_count": 96,
      "metadata": {
        "colab": {
          "base_uri": "https://localhost:8080/",
          "height": 282
        },
        "id": "ttkK87i6ehG9",
        "outputId": "cf8f3b45-b1fe-4108-86de-af2b983074bc"
      },
      "outputs": [
        {
          "output_type": "execute_result",
          "data": {
            "text/plain": [
              "<matplotlib.lines.Line2D at 0x7f8869d41a50>"
            ]
          },
          "metadata": {},
          "execution_count": 96
        },
        {
          "output_type": "display_data",
          "data": {
            "text/plain": [
              "<Figure size 432x288 with 1 Axes>"
            ],
            "image/png": "[encoded data removed]"
          },
          "metadata": {
            "needs_background": "light"
          }
        }
      ],
      "source": [
        "%matplotlib inline\n",
        "\n",
        "import numpy as np\n",
        "import pandas as pd\n",
        "import scipy.stats as stats\n",
        "import matplotlib.pyplot as plt\n",
        "import random\n",
        "import math\n",
        "\n",
        "intervals = []\n",
        "sample_means = []\n",
        "x = []\n",
        "y = []\n",
        "\n",
        "url = 'https://raw.githubusercontent.com/GiulioAppetito/Progetto-PMCSN/main/outputWaitCinema.csv'\n",
        "df1 = pd.read_csv(url)\n",
        "df1 = df1[df1['k']==256]\n",
        "\n",
        "for i in df1.index:\n",
        "  intervals.append(df1.loc[i,\"interval\"])\n",
        "  sample_means.append(df1.loc[i,\"wait\"])\n",
        "  x.append(df1.loc[i,\"b\"])\n",
        "intervals\n",
        "\n",
        "# importing matplotlib\n",
        "import matplotlib.pyplot as plt\n",
        " \n",
        " \n",
        "# making a simple plot\n",
        "y =sample_means\n",
        " \n",
        "# creating error\n",
        "y_error = intervals\n",
        " \n",
        "# plotting graph\n",
        "plt.plot(x, y)\n",
        " \n",
        "plt.errorbar(x, y,\n",
        "             yerr = y_error,\n",
        "             fmt ='o')\n",
        "plt.axhline(y=5.1, color='g', linestyle='-')"
      ]
    },
    {
      "cell_type": "code",
      "source": [
        "intervals = []\n",
        "sample_means = []\n",
        "x = []\n",
        "y = []\n",
        "\n",
        "url = 'https://raw.githubusercontent.com/GiulioAppetito/Progetto-PMCSN/main/outputWaitCinema.csv'\n",
        "df1 = pd.read_csv(url)\n",
        "df1 = df1[df1['k']==128]\n",
        "\n",
        "for i in df1.index:\n",
        "  intervals.append(df1.loc[i,\"interval\"])\n",
        "  sample_means.append(df1.loc[i,\"wait\"])\n",
        "  x.append(df1.loc[i,\"b\"])\n",
        "intervals\n",
        "\n",
        "# importing matplotlib\n",
        "import matplotlib.pyplot as plt\n",
        " \n",
        " \n",
        "# making a simple plot\n",
        "y =sample_means\n",
        " \n",
        "# creating error\n",
        "y_error = intervals\n",
        " \n",
        "# plotting graph\n",
        "plt.plot(x, y)\n",
        " \n",
        "plt.errorbar(x, y,\n",
        "             yerr = y_error,\n",
        "             fmt ='o')\n",
        "plt.axhline(y=4.78, color='g', linestyle='-')"
      ],
      "metadata": {
        "id": "uDek5_G9qFgS",
        "colab": {
          "base_uri": "https://localhost:8080/",
          "height": 282
        },
        "outputId": "7d4d91a0-2463-4378-fafe-7c3cc7ca5aff"
      },
      "execution_count": 94,
      "outputs": [
        {
          "output_type": "execute_result",
          "data": {
            "text/plain": [
              "<matplotlib.lines.Line2D at 0x7f8869e3aa50>"
            ]
          },
          "metadata": {},
          "execution_count": 94
        },
        {
          "output_type": "display_data",
          "data": {
            "text/plain": [
              "<Figure size 432x288 with 1 Axes>"
            ],
            "image/png": "[encoded data removed]"
          },
          "metadata": {
            "needs_background": "light"
          }
        }
      ]
    },
    {
      "cell_type": "code",
      "source": [
        "intervals = []\n",
        "sample_means = []\n",
        "x = []\n",
        "y = []\n",
        "\n",
        "url = 'https://raw.githubusercontent.com/GiulioAppetito/Progetto-PMCSN/main/outputWaitCinema.csv'\n",
        "df1 = pd.read_csv(url)\n",
        "df1 = df1[df1['k']==64]\n",
        "\n",
        "for i in df1.index:\n",
        "  intervals.append(df1.loc[i,\"interval\"])\n",
        "  sample_means.append(df1.loc[i,\"wait\"])\n",
        "  x.append(df1.loc[i,\"b\"])\n",
        "intervals\n",
        "\n",
        "# importing matplotlib\n",
        "import matplotlib.pyplot as plt\n",
        " \n",
        " \n",
        "# making a simple plot\n",
        "y =sample_means\n",
        " \n",
        "# creating error\n",
        "y_error = intervals\n",
        " \n",
        "# plotting graph\n",
        "plt.plot(x, y)\n",
        " \n",
        "plt.errorbar(x, y,\n",
        "             yerr = y_error,\n",
        "             fmt ='o')\n",
        "plt.axhline(y=4.78, color='g', linestyle='-')"
      ],
      "metadata": {
        "colab": {
          "base_uri": "https://localhost:8080/",
          "height": 282
        },
        "id": "mWCzmKkvn4TZ",
        "outputId": "81985500-e24c-49aa-d465-310ffe0c9778"
      },
      "execution_count": 93,
      "outputs": [
        {
          "output_type": "execute_result",
          "data": {
            "text/plain": [
              "<matplotlib.lines.Line2D at 0x7f8869ed4a10>"
            ]
          },
          "metadata": {},
          "execution_count": 93
        },
        {
          "output_type": "display_data",
          "data": {
            "text/plain": [
              "<Figure size 432x288 with 1 Axes>"
            ],
            "image/png": "[encoded data removed]"
          },
          "metadata": {
            "needs_background": "light"
          }
        }
      ]
    }
  ]
}