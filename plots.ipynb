{
  "nbformat": 4,
  "nbformat_minor": 0,
  "metadata": {
    "colab": {
      "provenance": [],
      "collapsed_sections": [],
      "authorship_tag": "ABX9TyN3Ue6Ag0EAAkzB9EW2+mjs",
      "include_colab_link": true
    },
    "kernelspec": {
      "name": "python3",
      "display_name": "Python 3"
    },
    "language_info": {
      "name": "python"
    }
  },
  "cells": [
    {
      "cell_type": "markdown",
      "metadata": {
        "id": "view-in-github",
        "colab_type": "text"
      },
      "source": [
        "<a href=\"https://colab.research.google.com/github/GiulioAppetito/Progetto-PMCSN/blob/main/plots.ipynb\" target=\"_parent\"><img src=\"https://colab.research.google.com/assets/colab-badge.svg\" alt=\"Open In Colab\"/></a>"
      ]
    },
    {
      "cell_type": "code",
      "source": [
        "%matplotlib inline\n",
        "\n",
        "import numpy as np\n",
        "import pandas as pd\n",
        "import scipy.stats as stats\n",
        "import matplotlib.pyplot as plt\n",
        "import random\n",
        "import math"
      ],
      "metadata": {
        "id": "uvzv7Lx1sYkr"
      },
      "execution_count": 1,
      "outputs": []
    },
    {
      "cell_type": "code",
      "source": [
        "def graficiSceltaBK():\n",
        "  intervals1 = []\n",
        "  sample_means1 = []\n",
        "  x1 = []\n",
        "  y1 = []\n",
        "\n",
        "  intervals2 = []\n",
        "  sample_means2 = []\n",
        "  x2 = []\n",
        "  y2 = []\n",
        "\n",
        "  intervals3 = []\n",
        "  sample_means3 = []\n",
        "  x3 = []\n",
        "  y3 = []\n",
        "\n",
        "  url = 'https://raw.githubusercontent.com/GiulioAppetito/Progetto-PMCSN/main/outputWaitCinema.csv'\n",
        "  df = pd.read_csv(url)\n",
        "  df1 = df[df['k']==64]\n",
        "  df2 = df[df['k']==128]\n",
        "  df3 = df[df['k']==256]\n",
        "\n",
        "  for i in df1.index:\n",
        "    intervals1.append(df1.loc[i,\"interval\"])\n",
        "    sample_means1.append(df1.loc[i,\"wait\"])\n",
        "    x1.append(df1.loc[i,\"b\"])\n",
        "\n",
        "  for i in df2.index:\n",
        "    intervals2.append(df2.loc[i,\"interval\"])\n",
        "    sample_means2.append(df2.loc[i,\"wait\"])\n",
        "    x2.append(df2.loc[i,\"b\"])\n",
        "\n",
        "  for i in df3.index:\n",
        "    intervals3.append(df3.loc[i,\"interval\"])\n",
        "    sample_means3.append(df3.loc[i,\"wait\"])\n",
        "    x3.append(df3.loc[i,\"b\"])\n",
        "  \n",
        "  # making a simple plot\n",
        "  y1 =sample_means1\n",
        "  y2 =sample_means2\n",
        "  y3 =sample_means3\n",
        "  \n",
        "  # creating error\n",
        "  y_error1 = intervals1\n",
        "  y_error2 = intervals2\n",
        "  y_error3 = intervals3\n",
        "  \n",
        "  # plotting graph\n",
        "  fig, (ax1, ax2,ax3) = plt.subplots(3,figsize=(10,20))\n",
        "  fig.suptitle('Vertically stacked subplots')\n",
        "\n",
        "  ax1.plot(x1, y1)\n",
        "  ax1.errorbar(x1, y1,yerr = y_error1,fmt ='o')\n",
        "  ax1.axhline(y=3.99, color='g', linestyle='-')\n",
        "  ax1.set_title('k = 64')\n",
        "  ax1.set_xlabel('batches (b)')\n",
        "  ax1.set_ylabel('E[Ts] (min)')\n",
        "\n",
        "  ax2.plot(x2, y2)\n",
        "  ax2.errorbar(x2, y2,yerr = y_error2,fmt ='o')\n",
        "  ax2.axhline(y=3.99, color='g', linestyle='-')\n",
        "  ax2.set_title('k = 128')\n",
        "  ax2.set_xlabel('batches (b)')\n",
        "  ax2.set_ylabel('E[Ts] (min)')\n",
        "\n",
        "  ax3.plot(x3, y3)\n",
        "  ax3.errorbar(x3, y3,yerr = y_error3,fmt ='o')\n",
        "  ax3.axhline(y=3.99, color='g', linestyle='-')\n",
        "  ax3.set_title('k = 256')\n",
        "  ax3.set_xlabel('batches (b)')\n",
        "  ax3.set_ylabel('E[Ts] (min)')\n",
        "\n"
      ],
      "metadata": {
        "id": "4_Ke5bqBsN1v"
      },
      "execution_count": 67,
      "outputs": []
    },
    {
      "cell_type": "code",
      "execution_count": null,
      "metadata": {
        "id": "ttkK87i6ehG9"
      },
      "outputs": [],
      "source": [
        "graficiSceltaBK()\n"
      ]
    },
    {
      "cell_type": "code",
      "source": [],
      "metadata": {
        "id": "mWCzmKkvn4TZ"
      },
      "execution_count": 29,
      "outputs": []
    }
  ]
}